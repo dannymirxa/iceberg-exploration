{
 "cells": [
  {
   "cell_type": "code",
   "execution_count": 1,
   "id": "32b09296-5318-4246-9a4c-4a428e344f27",
   "metadata": {},
   "outputs": [
    {
     "name": "stderr",
     "output_type": "stream",
     "text": [
      "25/10/16 04:55:42 WARN SparkSession: Using an existing Spark session; only runtime SQL configurations will take effect.\n"
     ]
    },
    {
     "data": {
      "text/html": [
       "\n",
       "            <div>\n",
       "                <p><b>SparkSession - in-memory</b></p>\n",
       "                \n",
       "        <div>\n",
       "            <p><b>SparkContext</b></p>\n",
       "\n",
       "            <p><a href=\"http://fc2f7c14669a:4040\">Spark UI</a></p>\n",
       "\n",
       "            <dl>\n",
       "              <dt>Version</dt>\n",
       "                <dd><code>v3.5.5</code></dd>\n",
       "              <dt>Master</dt>\n",
       "                <dd><code>local[*]</code></dd>\n",
       "              <dt>AppName</dt>\n",
       "                <dd><code>PySparkShell</code></dd>\n",
       "            </dl>\n",
       "        </div>\n",
       "        \n",
       "            </div>\n",
       "        "
      ],
      "text/plain": [
       "<pyspark.sql.session.SparkSession at 0x774eb5e99990>"
      ]
     },
     "execution_count": 1,
     "metadata": {},
     "output_type": "execute_result"
    }
   ],
   "source": [
    "from pyspark.sql import SparkSession\n",
    "spark = SparkSession.builder.appName(\"Jupyter\").getOrCreate()\n",
    "\n",
    "spark"
   ]
  },
  {
   "cell_type": "markdown",
   "id": "aae63a31-1d18-467c-b62a-af586c3b6a8c",
   "metadata": {},
   "source": [
    "## 1. Create namespace"
   ]
  },
  {
   "cell_type": "code",
   "execution_count": 2,
   "id": "fc83294b-424f-4d67-9929-bebca9eb4c40",
   "metadata": {},
   "outputs": [
    {
     "data": {
      "text/html": [
       "<table>\n",
       "    <thead>\n",
       "        <tr>\n",
       "            <th>catalog</th>\n",
       "        </tr>\n",
       "    </thead>\n",
       "    <tbody>\n",
       "        <tr>\n",
       "            <td>demo</td>\n",
       "        </tr>\n",
       "        <tr>\n",
       "            <td>spark_catalog</td>\n",
       "        </tr>\n",
       "    </tbody>\n",
       "</table>"
      ],
      "text/plain": [
       "+---------------+\n",
       "|       catalog |\n",
       "+---------------+\n",
       "|          demo |\n",
       "| spark_catalog |\n",
       "+---------------+"
      ]
     },
     "execution_count": 2,
     "metadata": {},
     "output_type": "execute_result"
    }
   ],
   "source": [
    "%%sql\n",
    "SHOW CATALOGS;"
   ]
  },
  {
   "cell_type": "code",
   "execution_count": 3,
   "id": "99ae51df-e944-4259-8e46-4ca43b2e81c5",
   "metadata": {},
   "outputs": [
    {
     "data": {
      "text/html": [
       "<table>\n",
       "    <thead>\n",
       "        <tr>\n",
       "            <th>namespace</th>\n",
       "        </tr>\n",
       "    </thead>\n",
       "    <tbody>\n",
       "        <tr>\n",
       "            <td>db</td>\n",
       "        </tr>\n",
       "    </tbody>\n",
       "</table>"
      ],
      "text/plain": [
       "+-----------+\n",
       "| namespace |\n",
       "+-----------+\n",
       "|        db |\n",
       "+-----------+"
      ]
     },
     "execution_count": 3,
     "metadata": {},
     "output_type": "execute_result"
    }
   ],
   "source": [
    "%%sql\n",
    "SHOW DATABASES;"
   ]
  },
  {
   "cell_type": "code",
   "execution_count": 4,
   "id": "cfd9d748-b368-44fe-b71b-38c8967fa1be",
   "metadata": {},
   "outputs": [
    {
     "data": {
      "text/html": [
       "<table>\n",
       "    <thead>\n",
       "        <tr>\n",
       "        </tr>\n",
       "    </thead>\n",
       "    <tbody>\n",
       "    </tbody>\n",
       "</table>"
      ],
      "text/plain": [
       "++\n",
       "||\n",
       "++\n",
       "++"
      ]
     },
     "execution_count": 4,
     "metadata": {},
     "output_type": "execute_result"
    }
   ],
   "source": [
    "%%sql\n",
    "CREATE NAMESPACE IF NOT EXISTS demo.db;"
   ]
  },
  {
   "cell_type": "markdown",
   "id": "c803f31a-dc99-490f-ad62-6ce59cda2a81",
   "metadata": {},
   "source": [
    "## 2. Read dataset"
   ]
  },
  {
   "cell_type": "code",
   "execution_count": 5,
   "id": "8089e5d4-70ab-41a9-a08f-2ac0ae266655",
   "metadata": {},
   "outputs": [
    {
     "name": "stdout",
     "output_type": "stream",
     "text": [
      "insurance.csv\n"
     ]
    }
   ],
   "source": [
    "## checking the dataset presence\n",
    "!ls dataset"
   ]
  },
  {
   "cell_type": "code",
   "execution_count": 6,
   "id": "d0a6a2e4-0597-4bc8-aa3f-5bbed2f59c93",
   "metadata": {},
   "outputs": [
    {
     "name": "stdout",
     "output_type": "stream",
     "text": [
      "+---+------+------+--------+------+---------+-----------+\n",
      "|age|   sex|   bmi|children|smoker|   region|    charges|\n",
      "+---+------+------+--------+------+---------+-----------+\n",
      "| 19|female|  27.9|       0|   yes|southwest|  16884.924|\n",
      "| 18|  male| 33.77|       1|    no|southeast|  1725.5523|\n",
      "| 28|  male|  33.0|       3|    no|southeast|   4449.462|\n",
      "| 33|  male|22.705|       0|    no|northwest|21984.47061|\n",
      "| 32|  male| 28.88|       0|    no|northwest|  3866.8552|\n",
      "+---+------+------+--------+------+---------+-----------+\n",
      "only showing top 5 rows\n",
      "\n"
     ]
    }
   ],
   "source": [
    "df = spark.read.option(\"header\", \"true\").option(\"inferSchema\", \"true\").csv(\"./dataset/insurance.csv\")\n",
    "df.show(5)"
   ]
  },
  {
   "cell_type": "code",
   "execution_count": 7,
   "id": "95647a19-1f1b-4409-834f-688039b12c29",
   "metadata": {},
   "outputs": [],
   "source": [
    "df.createOrReplaceTempView(\"insurance_csv\")"
   ]
  },
  {
   "cell_type": "code",
   "execution_count": 8,
   "id": "b2b22e36-e381-4474-9f11-eeadb0ecd79d",
   "metadata": {},
   "outputs": [
    {
     "data": {
      "text/html": [
       "<table>\n",
       "    <thead>\n",
       "        <tr>\n",
       "            <th>age</th>\n",
       "            <th>sex</th>\n",
       "            <th>bmi</th>\n",
       "            <th>children</th>\n",
       "            <th>smoker</th>\n",
       "            <th>region</th>\n",
       "            <th>charges</th>\n",
       "        </tr>\n",
       "    </thead>\n",
       "    <tbody>\n",
       "        <tr>\n",
       "            <td>56</td>\n",
       "            <td>female</td>\n",
       "            <td>39.82</td>\n",
       "            <td>0</td>\n",
       "            <td>no</td>\n",
       "            <td>southeast</td>\n",
       "            <td>11090.7178</td>\n",
       "        </tr>\n",
       "        <tr>\n",
       "            <td>33</td>\n",
       "            <td>female</td>\n",
       "            <td>39.82</td>\n",
       "            <td>1</td>\n",
       "            <td>no</td>\n",
       "            <td>southeast</td>\n",
       "            <td>4795.6568</td>\n",
       "        </tr>\n",
       "        <tr>\n",
       "            <td>18</td>\n",
       "            <td>female</td>\n",
       "            <td>39.82</td>\n",
       "            <td>0</td>\n",
       "            <td>no</td>\n",
       "            <td>southeast</td>\n",
       "            <td>1633.9618</td>\n",
       "        </tr>\n",
       "    </tbody>\n",
       "</table>"
      ],
      "text/plain": [
       "+-----+--------+-------+----------+--------+-----------+------------+\n",
       "| age |    sex |   bmi | children | smoker |    region |    charges |\n",
       "+-----+--------+-------+----------+--------+-----------+------------+\n",
       "|  56 | female | 39.82 |        0 |     no | southeast | 11090.7178 |\n",
       "|  33 | female | 39.82 |        1 |     no | southeast |  4795.6568 |\n",
       "|  18 | female | 39.82 |        0 |     no | southeast |  1633.9618 |\n",
       "+-----+--------+-------+----------+--------+-----------+------------+"
      ]
     },
     "execution_count": 8,
     "metadata": {},
     "output_type": "execute_result"
    }
   ],
   "source": [
    "%%sql\n",
    "SELECT * FROM insurance_csv\n",
    "WHERE bmi = 39.82;"
   ]
  },
  {
   "cell_type": "markdown",
   "id": "ace8dbbf-c390-4c30-924c-d6b6f8442eae",
   "metadata": {},
   "source": [
    "## 3. Partition"
   ]
  },
  {
   "cell_type": "code",
   "execution_count": 9,
   "id": "62c30948-1760-4a11-a7e2-76ac028feafb",
   "metadata": {},
   "outputs": [
    {
     "name": "stderr",
     "output_type": "stream",
     "text": [
      "                                                                                "
     ]
    },
    {
     "data": {
      "text/html": [
       "<table>\n",
       "    <thead>\n",
       "        <tr>\n",
       "        </tr>\n",
       "    </thead>\n",
       "    <tbody>\n",
       "    </tbody>\n",
       "</table>"
      ],
      "text/plain": [
       "++\n",
       "||\n",
       "++\n",
       "++"
      ]
     },
     "execution_count": 9,
     "metadata": {},
     "output_type": "execute_result"
    }
   ],
   "source": [
    "%%sql\n",
    "CREATE\n",
    "OR REPLACE TABLE demo.db.insurance USING iceberg PARTITIONED BY (region) AS\n",
    "SELECT * FROM insurance_csv;"
   ]
  },
  {
   "cell_type": "code",
   "execution_count": 10,
   "id": "c67c9070-f09b-4f8a-980f-5e530b3cd640",
   "metadata": {},
   "outputs": [
    {
     "data": {
      "text/html": [
       "<table>\n",
       "    <thead>\n",
       "        <tr>\n",
       "            <th>age</th>\n",
       "            <th>sex</th>\n",
       "            <th>bmi</th>\n",
       "            <th>children</th>\n",
       "            <th>smoker</th>\n",
       "            <th>region</th>\n",
       "            <th>charges</th>\n",
       "        </tr>\n",
       "    </thead>\n",
       "    <tbody>\n",
       "        <tr>\n",
       "            <td>33</td>\n",
       "            <td>male</td>\n",
       "            <td>22.705</td>\n",
       "            <td>0</td>\n",
       "            <td>no</td>\n",
       "            <td>northwest</td>\n",
       "            <td>21984.47061</td>\n",
       "        </tr>\n",
       "        <tr>\n",
       "            <td>32</td>\n",
       "            <td>male</td>\n",
       "            <td>28.88</td>\n",
       "            <td>0</td>\n",
       "            <td>no</td>\n",
       "            <td>northwest</td>\n",
       "            <td>3866.8552</td>\n",
       "        </tr>\n",
       "        <tr>\n",
       "            <td>37</td>\n",
       "            <td>female</td>\n",
       "            <td>27.74</td>\n",
       "            <td>3</td>\n",
       "            <td>no</td>\n",
       "            <td>northwest</td>\n",
       "            <td>7281.5056</td>\n",
       "        </tr>\n",
       "        <tr>\n",
       "            <td>60</td>\n",
       "            <td>female</td>\n",
       "            <td>25.84</td>\n",
       "            <td>0</td>\n",
       "            <td>no</td>\n",
       "            <td>northwest</td>\n",
       "            <td>28923.13692</td>\n",
       "        </tr>\n",
       "        <tr>\n",
       "            <td>37</td>\n",
       "            <td>male</td>\n",
       "            <td>28.025</td>\n",
       "            <td>2</td>\n",
       "            <td>no</td>\n",
       "            <td>northwest</td>\n",
       "            <td>6203.90175</td>\n",
       "        </tr>\n",
       "    </tbody>\n",
       "</table>"
      ],
      "text/plain": [
       "+-----+--------+--------+----------+--------+-----------+-------------+\n",
       "| age |    sex |    bmi | children | smoker |    region |     charges |\n",
       "+-----+--------+--------+----------+--------+-----------+-------------+\n",
       "|  33 |   male | 22.705 |        0 |     no | northwest | 21984.47061 |\n",
       "|  32 |   male |  28.88 |        0 |     no | northwest |   3866.8552 |\n",
       "|  37 | female |  27.74 |        3 |     no | northwest |   7281.5056 |\n",
       "|  60 | female |  25.84 |        0 |     no | northwest | 28923.13692 |\n",
       "|  37 |   male | 28.025 |        2 |     no | northwest |  6203.90175 |\n",
       "+-----+--------+--------+----------+--------+-----------+-------------+"
      ]
     },
     "execution_count": 10,
     "metadata": {},
     "output_type": "execute_result"
    }
   ],
   "source": [
    "%%sql\n",
    "SELECT * FROM demo.db.insurance LIMIT 5;"
   ]
  },
  {
   "cell_type": "markdown",
   "id": "72bd3050-c241-4d7f-a4aa-7da8ae66edbf",
   "metadata": {},
   "source": [
    "## 3.1 Show partitions in the table"
   ]
  },
  {
   "cell_type": "markdown",
   "id": "bf15f878-95a9-412d-9e0f-80716d0d48b7",
   "metadata": {},
   "source": [
    "### Show the table definition"
   ]
  },
  {
   "cell_type": "code",
   "execution_count": 11,
   "id": "4d7f3146-27c5-4922-9b09-c5d68f45a734",
   "metadata": {},
   "outputs": [
    {
     "data": {
      "text/html": [
       "<table>\n",
       "    <thead>\n",
       "        <tr>\n",
       "            <th>col_name</th>\n",
       "            <th>data_type</th>\n",
       "            <th>comment</th>\n",
       "        </tr>\n",
       "    </thead>\n",
       "    <tbody>\n",
       "        <tr>\n",
       "            <td>age</td>\n",
       "            <td>int</td>\n",
       "            <td>None</td>\n",
       "        </tr>\n",
       "        <tr>\n",
       "            <td>sex</td>\n",
       "            <td>string</td>\n",
       "            <td>None</td>\n",
       "        </tr>\n",
       "        <tr>\n",
       "            <td>bmi</td>\n",
       "            <td>double</td>\n",
       "            <td>None</td>\n",
       "        </tr>\n",
       "        <tr>\n",
       "            <td>children</td>\n",
       "            <td>int</td>\n",
       "            <td>None</td>\n",
       "        </tr>\n",
       "        <tr>\n",
       "            <td>smoker</td>\n",
       "            <td>string</td>\n",
       "            <td>None</td>\n",
       "        </tr>\n",
       "        <tr>\n",
       "            <td>region</td>\n",
       "            <td>string</td>\n",
       "            <td>None</td>\n",
       "        </tr>\n",
       "        <tr>\n",
       "            <td>charges</td>\n",
       "            <td>double</td>\n",
       "            <td>None</td>\n",
       "        </tr>\n",
       "        <tr>\n",
       "            <td># Partition Information</td>\n",
       "            <td></td>\n",
       "            <td></td>\n",
       "        </tr>\n",
       "        <tr>\n",
       "            <td># col_name</td>\n",
       "            <td>data_type</td>\n",
       "            <td>comment</td>\n",
       "        </tr>\n",
       "        <tr>\n",
       "            <td>region</td>\n",
       "            <td>string</td>\n",
       "            <td>None</td>\n",
       "        </tr>\n",
       "        <tr>\n",
       "            <td></td>\n",
       "            <td></td>\n",
       "            <td></td>\n",
       "        </tr>\n",
       "        <tr>\n",
       "            <td># Metadata Columns</td>\n",
       "            <td></td>\n",
       "            <td></td>\n",
       "        </tr>\n",
       "        <tr>\n",
       "            <td>_spec_id</td>\n",
       "            <td>int</td>\n",
       "            <td></td>\n",
       "        </tr>\n",
       "        <tr>\n",
       "            <td>_partition</td>\n",
       "            <td>struct&lt;region:string&gt;</td>\n",
       "            <td></td>\n",
       "        </tr>\n",
       "        <tr>\n",
       "            <td>_file</td>\n",
       "            <td>string</td>\n",
       "            <td></td>\n",
       "        </tr>\n",
       "        <tr>\n",
       "            <td>_pos</td>\n",
       "            <td>bigint</td>\n",
       "            <td></td>\n",
       "        </tr>\n",
       "        <tr>\n",
       "            <td>_deleted</td>\n",
       "            <td>boolean</td>\n",
       "            <td></td>\n",
       "        </tr>\n",
       "        <tr>\n",
       "            <td></td>\n",
       "            <td></td>\n",
       "            <td></td>\n",
       "        </tr>\n",
       "        <tr>\n",
       "            <td># Detailed Table Information</td>\n",
       "            <td></td>\n",
       "            <td></td>\n",
       "        </tr>\n",
       "        <tr>\n",
       "            <td>Name</td>\n",
       "            <td>demo.db.insurance</td>\n",
       "            <td></td>\n",
       "        </tr>\n",
       "        <tr>\n",
       "            <td>Type</td>\n",
       "            <td>MANAGED</td>\n",
       "            <td></td>\n",
       "        </tr>\n",
       "        <tr>\n",
       "            <td>Location</td>\n",
       "            <td>s3://warehouse/db/insurance</td>\n",
       "            <td></td>\n",
       "        </tr>\n",
       "        <tr>\n",
       "            <td>Provider</td>\n",
       "            <td>iceberg</td>\n",
       "            <td></td>\n",
       "        </tr>\n",
       "        <tr>\n",
       "            <td>Owner</td>\n",
       "            <td>root</td>\n",
       "            <td></td>\n",
       "        </tr>\n",
       "        <tr>\n",
       "            <td>Table Properties</td>\n",
       "            <td>[created-at=2025-10-15T04:11:20.531958178Z,current-snapshot-id=7129606971041927265,format=iceberg/parquet,format-version=2,write.parquet.compression-codec=zstd]</td>\n",
       "            <td></td>\n",
       "        </tr>\n",
       "    </tbody>\n",
       "</table>"
      ],
      "text/plain": [
       "+------------------------------+------------------------------------------------------------------------------------------------------------------------------------------------------------------+---------+\n",
       "|                     col_name |                                                                                                                                                        data_type | comment |\n",
       "+------------------------------+------------------------------------------------------------------------------------------------------------------------------------------------------------------+---------+\n",
       "|                          age |                                                                                                                                                              int |    None |\n",
       "|                          sex |                                                                                                                                                           string |    None |\n",
       "|                          bmi |                                                                                                                                                           double |    None |\n",
       "|                     children |                                                                                                                                                              int |    None |\n",
       "|                       smoker |                                                                                                                                                           string |    None |\n",
       "|                       region |                                                                                                                                                           string |    None |\n",
       "|                      charges |                                                                                                                                                           double |    None |\n",
       "|      # Partition Information |                                                                                                                                                                  |         |\n",
       "|                   # col_name |                                                                                                                                                        data_type | comment |\n",
       "|                       region |                                                                                                                                                           string |    None |\n",
       "|                              |                                                                                                                                                                  |         |\n",
       "|           # Metadata Columns |                                                                                                                                                                  |         |\n",
       "|                     _spec_id |                                                                                                                                                              int |         |\n",
       "|                   _partition |                                                                                                                                            struct<region:string> |         |\n",
       "|                        _file |                                                                                                                                                           string |         |\n",
       "|                         _pos |                                                                                                                                                           bigint |         |\n",
       "|                     _deleted |                                                                                                                                                          boolean |         |\n",
       "|                              |                                                                                                                                                                  |         |\n",
       "| # Detailed Table Information |                                                                                                                                                                  |         |\n",
       "|                         Name |                                                                                                                                                demo.db.insurance |         |\n",
       "|                         Type |                                                                                                                                                          MANAGED |         |\n",
       "|                     Location |                                                                                                                                      s3://warehouse/db/insurance |         |\n",
       "|                     Provider |                                                                                                                                                          iceberg |         |\n",
       "|                        Owner |                                                                                                                                                             root |         |\n",
       "|             Table Properties | [created-at=2025-10-15T04:11:20.531958178Z,current-snapshot-id=7129606971041927265,format=iceberg/parquet,format-version=2,write.parquet.compression-codec=zstd] |         |\n",
       "+------------------------------+------------------------------------------------------------------------------------------------------------------------------------------------------------------+---------+"
      ]
     },
     "execution_count": 11,
     "metadata": {},
     "output_type": "execute_result"
    }
   ],
   "source": [
    "%%sql\n",
    "DESCRIBE EXTENDED demo.db.insurance;"
   ]
  },
  {
   "cell_type": "markdown",
   "id": "f9d2aa20-bf3b-4e77-a9bc-84fbcf4f18d6",
   "metadata": {},
   "source": [
    "### Iceberg metadata tables"
   ]
  },
  {
   "cell_type": "code",
   "execution_count": 12,
   "id": "27487999-90fd-43fc-a544-c91906abd289",
   "metadata": {},
   "outputs": [
    {
     "data": {
      "text/html": [
       "<table>\n",
       "    <thead>\n",
       "        <tr>\n",
       "            <th>partition</th>\n",
       "            <th>spec_id</th>\n",
       "            <th>record_count</th>\n",
       "            <th>file_count</th>\n",
       "            <th>total_data_file_size_in_bytes</th>\n",
       "            <th>position_delete_record_count</th>\n",
       "            <th>position_delete_file_count</th>\n",
       "            <th>equality_delete_record_count</th>\n",
       "            <th>equality_delete_file_count</th>\n",
       "            <th>last_updated_at</th>\n",
       "            <th>last_updated_snapshot_id</th>\n",
       "        </tr>\n",
       "    </thead>\n",
       "    <tbody>\n",
       "        <tr>\n",
       "            <td>Row(region=&#x27;northwest&#x27;)</td>\n",
       "            <td>1</td>\n",
       "            <td>325</td>\n",
       "            <td>1</td>\n",
       "            <td>6367</td>\n",
       "            <td>0</td>\n",
       "            <td>0</td>\n",
       "            <td>0</td>\n",
       "            <td>0</td>\n",
       "            <td>2025-10-16 04:55:55.083000</td>\n",
       "            <td>7129606971041927265</td>\n",
       "        </tr>\n",
       "        <tr>\n",
       "            <td>Row(region=&#x27;southwest&#x27;)</td>\n",
       "            <td>1</td>\n",
       "            <td>325</td>\n",
       "            <td>1</td>\n",
       "            <td>5745</td>\n",
       "            <td>0</td>\n",
       "            <td>0</td>\n",
       "            <td>0</td>\n",
       "            <td>0</td>\n",
       "            <td>2025-10-16 04:55:55.083000</td>\n",
       "            <td>7129606971041927265</td>\n",
       "        </tr>\n",
       "        <tr>\n",
       "            <td>Row(region=&#x27;southeast&#x27;)</td>\n",
       "            <td>1</td>\n",
       "            <td>364</td>\n",
       "            <td>1</td>\n",
       "            <td>6688</td>\n",
       "            <td>0</td>\n",
       "            <td>0</td>\n",
       "            <td>0</td>\n",
       "            <td>0</td>\n",
       "            <td>2025-10-16 04:55:55.083000</td>\n",
       "            <td>7129606971041927265</td>\n",
       "        </tr>\n",
       "        <tr>\n",
       "            <td>Row(region=&#x27;northeast&#x27;)</td>\n",
       "            <td>1</td>\n",
       "            <td>324</td>\n",
       "            <td>1</td>\n",
       "            <td>6424</td>\n",
       "            <td>0</td>\n",
       "            <td>0</td>\n",
       "            <td>0</td>\n",
       "            <td>0</td>\n",
       "            <td>2025-10-16 04:55:55.083000</td>\n",
       "            <td>7129606971041927265</td>\n",
       "        </tr>\n",
       "    </tbody>\n",
       "</table>"
      ],
      "text/plain": [
       "+-------------------------+---------+--------------+------------+-------------------------------+------------------------------+----------------------------+------------------------------+----------------------------+----------------------------+--------------------------+\n",
       "|               partition | spec_id | record_count | file_count | total_data_file_size_in_bytes | position_delete_record_count | position_delete_file_count | equality_delete_record_count | equality_delete_file_count |            last_updated_at | last_updated_snapshot_id |\n",
       "+-------------------------+---------+--------------+------------+-------------------------------+------------------------------+----------------------------+------------------------------+----------------------------+----------------------------+--------------------------+\n",
       "| Row(region='northwest') |       1 |          325 |          1 |                          6367 |                            0 |                          0 |                            0 |                          0 | 2025-10-16 04:55:55.083000 |      7129606971041927265 |\n",
       "| Row(region='southwest') |       1 |          325 |          1 |                          5745 |                            0 |                          0 |                            0 |                          0 | 2025-10-16 04:55:55.083000 |      7129606971041927265 |\n",
       "| Row(region='southeast') |       1 |          364 |          1 |                          6688 |                            0 |                          0 |                            0 |                          0 | 2025-10-16 04:55:55.083000 |      7129606971041927265 |\n",
       "| Row(region='northeast') |       1 |          324 |          1 |                          6424 |                            0 |                          0 |                            0 |                          0 | 2025-10-16 04:55:55.083000 |      7129606971041927265 |\n",
       "+-------------------------+---------+--------------+------------+-------------------------------+------------------------------+----------------------------+------------------------------+----------------------------+----------------------------+--------------------------+"
      ]
     },
     "execution_count": 12,
     "metadata": {},
     "output_type": "execute_result"
    }
   ],
   "source": [
    "%%sql\n",
    "SELECT * FROM demo.db.insurance.partitions;"
   ]
  },
  {
   "cell_type": "markdown",
   "id": "ce6b90e0-7507-44de-8c42-874111f7f43a",
   "metadata": {},
   "source": [
    "### Run a partition‑pruning query"
   ]
  },
  {
   "cell_type": "code",
   "execution_count": 13,
   "id": "c51b628c-cf90-41af-88e9-6bce76d06851",
   "metadata": {},
   "outputs": [
    {
     "data": {
      "text/html": [
       "<table>\n",
       "    <thead>\n",
       "        <tr>\n",
       "            <th>plan</th>\n",
       "        </tr>\n",
       "    </thead>\n",
       "    <tbody>\n",
       "        <tr>\n",
       "            <td>== Physical Plan ==<br>*(1) Filter (isnotnull(region#211) AND (region#211 = southeast))<br>+- *(1) ColumnarToRow<br>   +- BatchScan demo.db.insurance[age#206, sex#207, bmi#208, children#209, smoker#210, region#211, charges#212] demo.db.insurance (branch=null) [filters=region IS NOT NULL, region = &#x27;southeast&#x27;, groupedBy=] RuntimeFilters: []<br><br></td>\n",
       "        </tr>\n",
       "    </tbody>\n",
       "</table>"
      ],
      "text/plain": [
       "+-----------------------------------------------------------------------------------------------------------------------------------------------------------------------------------------------------------------------------------+\n",
       "|                                                                                                                                                                                                                              plan |\n",
       "+-----------------------------------------------------------------------------------------------------------------------------------------------------------------------------------------------------------------------------------+\n",
       "|                                                                                                                                                                                                               == Physical Plan == |\n",
       "|                                                                                                                                                                  *(1) Filter (isnotnull(region#211) AND (region#211 = southeast)) |\n",
       "|                                                                                                                                                                                                             +- *(1) ColumnarToRow |\n",
       "|    +- BatchScan demo.db.insurance[age#206, sex#207, bmi#208, children#209, smoker#210, region#211, charges#212] demo.db.insurance (branch=null) [filters=region IS NOT NULL, region = 'southeast', groupedBy=] RuntimeFilters: [] |\n",
       "|                                                                                                                                                                                                                                   |\n",
       "|                                                                                                                                                                                                                                   |\n",
       "+-----------------------------------------------------------------------------------------------------------------------------------------------------------------------------------------------------------------------------------+"
      ]
     },
     "execution_count": 13,
     "metadata": {},
     "output_type": "execute_result"
    }
   ],
   "source": [
    "%%sql\n",
    "EXPLAIN SELECT * FROM demo.db.insurance WHERE region = 'southeast';"
   ]
  },
  {
   "cell_type": "markdown",
   "id": "83be9ce2-9936-401c-a753-92c39d40120c",
   "metadata": {},
   "source": [
    "## 4. Schema evolution"
   ]
  },
  {
   "cell_type": "markdown",
   "id": "898f78ab-46eb-439a-ab09-bec6b27f8c58",
   "metadata": {},
   "source": [
    "### 4.1 Rename column"
   ]
  },
  {
   "cell_type": "code",
   "execution_count": 16,
   "id": "6587949e-c237-4dcf-abb9-4a100818bc62",
   "metadata": {},
   "outputs": [
    {
     "data": {
      "text/html": [
       "<table>\n",
       "    <thead>\n",
       "        <tr>\n",
       "        </tr>\n",
       "    </thead>\n",
       "    <tbody>\n",
       "    </tbody>\n",
       "</table>"
      ],
      "text/plain": [
       "++\n",
       "||\n",
       "++\n",
       "++"
      ]
     },
     "execution_count": 16,
     "metadata": {},
     "output_type": "execute_result"
    }
   ],
   "source": [
    "%%sql\n",
    "ALTER TABLE demo.db.insurance\n",
    "RENAME COLUMN sex TO gender;"
   ]
  },
  {
   "cell_type": "code",
   "execution_count": 17,
   "id": "fde3aefb-caaf-4d6c-aa71-ba886689448b",
   "metadata": {},
   "outputs": [
    {
     "data": {
      "text/html": [
       "<table>\n",
       "    <thead>\n",
       "        <tr>\n",
       "            <th>age</th>\n",
       "            <th>gender</th>\n",
       "            <th>bmi</th>\n",
       "            <th>children</th>\n",
       "            <th>smoker</th>\n",
       "            <th>region</th>\n",
       "            <th>charges</th>\n",
       "        </tr>\n",
       "    </thead>\n",
       "    <tbody>\n",
       "        <tr>\n",
       "            <td>33</td>\n",
       "            <td>male</td>\n",
       "            <td>22.705</td>\n",
       "            <td>0</td>\n",
       "            <td>no</td>\n",
       "            <td>northwest</td>\n",
       "            <td>21984.47061</td>\n",
       "        </tr>\n",
       "        <tr>\n",
       "            <td>32</td>\n",
       "            <td>male</td>\n",
       "            <td>28.88</td>\n",
       "            <td>0</td>\n",
       "            <td>no</td>\n",
       "            <td>northwest</td>\n",
       "            <td>3866.8552</td>\n",
       "        </tr>\n",
       "        <tr>\n",
       "            <td>37</td>\n",
       "            <td>female</td>\n",
       "            <td>27.74</td>\n",
       "            <td>3</td>\n",
       "            <td>no</td>\n",
       "            <td>northwest</td>\n",
       "            <td>7281.5056</td>\n",
       "        </tr>\n",
       "        <tr>\n",
       "            <td>60</td>\n",
       "            <td>female</td>\n",
       "            <td>25.84</td>\n",
       "            <td>0</td>\n",
       "            <td>no</td>\n",
       "            <td>northwest</td>\n",
       "            <td>28923.13692</td>\n",
       "        </tr>\n",
       "        <tr>\n",
       "            <td>37</td>\n",
       "            <td>male</td>\n",
       "            <td>28.025</td>\n",
       "            <td>2</td>\n",
       "            <td>no</td>\n",
       "            <td>northwest</td>\n",
       "            <td>6203.90175</td>\n",
       "        </tr>\n",
       "    </tbody>\n",
       "</table>"
      ],
      "text/plain": [
       "+-----+--------+--------+----------+--------+-----------+-------------+\n",
       "| age | gender |    bmi | children | smoker |    region |     charges |\n",
       "+-----+--------+--------+----------+--------+-----------+-------------+\n",
       "|  33 |   male | 22.705 |        0 |     no | northwest | 21984.47061 |\n",
       "|  32 |   male |  28.88 |        0 |     no | northwest |   3866.8552 |\n",
       "|  37 | female |  27.74 |        3 |     no | northwest |   7281.5056 |\n",
       "|  60 | female |  25.84 |        0 |     no | northwest | 28923.13692 |\n",
       "|  37 |   male | 28.025 |        2 |     no | northwest |  6203.90175 |\n",
       "+-----+--------+--------+----------+--------+-----------+-------------+"
      ]
     },
     "execution_count": 17,
     "metadata": {},
     "output_type": "execute_result"
    }
   ],
   "source": [
    "%%sql\n",
    "-- demo.db.insurance now has gender column \n",
    "SELECT * FROM demo.db.insurance LIMIT 5;"
   ]
  },
  {
   "cell_type": "markdown",
   "id": "51edfec6-70d6-4506-9dc1-8a3c2d028907",
   "metadata": {},
   "source": [
    "### 4.2 verify schema history"
   ]
  },
  {
   "cell_type": "markdown",
   "id": "8f93d0a2-2d9a-48c3-855e-0398ca454fb6",
   "metadata": {},
   "source": [
    "### Schema history"
   ]
  },
  {
   "cell_type": "code",
   "execution_count": 18,
   "id": "21772b28-f5b0-4636-9c31-1e6084abf8d7",
   "metadata": {},
   "outputs": [
    {
     "data": {
      "text/html": [
       "<table>\n",
       "    <thead>\n",
       "        <tr>\n",
       "            <th>made_current_at</th>\n",
       "            <th>snapshot_id</th>\n",
       "            <th>parent_id</th>\n",
       "            <th>is_current_ancestor</th>\n",
       "        </tr>\n",
       "    </thead>\n",
       "    <tbody>\n",
       "        <tr>\n",
       "            <td>2025-10-16 04:55:55.083000</td>\n",
       "            <td>7129606971041927265</td>\n",
       "            <td>None</td>\n",
       "            <td>True</td>\n",
       "        </tr>\n",
       "        <tr>\n",
       "            <td>2025-10-15 04:49:50</td>\n",
       "            <td>6303910031349085422</td>\n",
       "            <td>None</td>\n",
       "            <td>False</td>\n",
       "        </tr>\n",
       "        <tr>\n",
       "            <td>2025-10-15 04:30:49.209000</td>\n",
       "            <td>3858102109553479743</td>\n",
       "            <td>None</td>\n",
       "            <td>False</td>\n",
       "        </tr>\n",
       "        <tr>\n",
       "            <td>2025-10-15 04:15:21.270000</td>\n",
       "            <td>9164666238223732662</td>\n",
       "            <td>None</td>\n",
       "            <td>False</td>\n",
       "        </tr>\n",
       "        <tr>\n",
       "            <td>2025-10-15 04:11:20.838000</td>\n",
       "            <td>3561448738912927623</td>\n",
       "            <td>None</td>\n",
       "            <td>False</td>\n",
       "        </tr>\n",
       "    </tbody>\n",
       "</table>"
      ],
      "text/plain": [
       "+----------------------------+---------------------+-----------+---------------------+\n",
       "|            made_current_at |         snapshot_id | parent_id | is_current_ancestor |\n",
       "+----------------------------+---------------------+-----------+---------------------+\n",
       "| 2025-10-16 04:55:55.083000 | 7129606971041927265 |      None |                True |\n",
       "|        2025-10-15 04:49:50 | 6303910031349085422 |      None |               False |\n",
       "| 2025-10-15 04:30:49.209000 | 3858102109553479743 |      None |               False |\n",
       "| 2025-10-15 04:15:21.270000 | 9164666238223732662 |      None |               False |\n",
       "| 2025-10-15 04:11:20.838000 | 3561448738912927623 |      None |               False |\n",
       "+----------------------------+---------------------+-----------+---------------------+"
      ]
     },
     "execution_count": 18,
     "metadata": {},
     "output_type": "execute_result"
    }
   ],
   "source": [
    "%%sql\n",
    "SELECT * FROM demo.db.insurance.history ORDER BY made_current_at DESC;"
   ]
  },
  {
   "cell_type": "markdown",
   "id": "935a2df6-dc66-4bec-a29f-25b747511813",
   "metadata": {},
   "source": [
    "### Inspect metadata"
   ]
  },
  {
   "cell_type": "code",
   "execution_count": 19,
   "id": "f6e438b9-90fb-45f7-88ba-9fd38a86961d",
   "metadata": {},
   "outputs": [
    {
     "data": {
      "text/html": [
       "<table>\n",
       "    <thead>\n",
       "        <tr>\n",
       "            <th>committed_at</th>\n",
       "            <th>snapshot_id</th>\n",
       "            <th>parent_id</th>\n",
       "            <th>operation</th>\n",
       "            <th>manifest_list</th>\n",
       "            <th>summary</th>\n",
       "        </tr>\n",
       "    </thead>\n",
       "    <tbody>\n",
       "        <tr>\n",
       "            <td>2025-10-16 04:55:55.083000</td>\n",
       "            <td>7129606971041927265</td>\n",
       "            <td>None</td>\n",
       "            <td>append</td>\n",
       "            <td>s3://warehouse/db/insurance/metadata/snap-7129606971041927265-1-688c09c6-2e8a-4320-a840-a608d6e6d786.avro</td>\n",
       "            <td>{&#x27;engine-version&#x27;: &#x27;3.5.5&#x27;, &#x27;added-data-files&#x27;: &#x27;4&#x27;, &#x27;total-equality-deletes&#x27;: &#x27;0&#x27;, &#x27;app-id&#x27;: &#x27;local-1760590539939&#x27;, &#x27;added-records&#x27;: &#x27;1338&#x27;, &#x27;total-records&#x27;: &#x27;1338&#x27;, &#x27;spark.app.id&#x27;: &#x27;local-1760590539939&#x27;, &#x27;changed-partition-count&#x27;: &#x27;4&#x27;, &#x27;engine-name&#x27;: &#x27;spark&#x27;, &#x27;total-position-deletes&#x27;: &#x27;0&#x27;, &#x27;added-files-size&#x27;: &#x27;25224&#x27;, &#x27;total-delete-files&#x27;: &#x27;0&#x27;, &#x27;iceberg-version&#x27;: &#x27;Apache Iceberg 1.8.1 (commit 9ce0fcf0af7becf25ad9fc996c3bad2afdcfd33d)&#x27;, &#x27;total-files-size&#x27;: &#x27;25224&#x27;, &#x27;total-data-files&#x27;: &#x27;4&#x27;}</td>\n",
       "        </tr>\n",
       "        <tr>\n",
       "            <td>2025-10-15 04:49:50</td>\n",
       "            <td>6303910031349085422</td>\n",
       "            <td>None</td>\n",
       "            <td>append</td>\n",
       "            <td>s3://warehouse/db/insurance/metadata/snap-6303910031349085422-1-eb7d4f2e-7add-471a-aa07-50b8997a4816.avro</td>\n",
       "            <td>{&#x27;engine-version&#x27;: &#x27;3.5.5&#x27;, &#x27;added-data-files&#x27;: &#x27;4&#x27;, &#x27;total-equality-deletes&#x27;: &#x27;0&#x27;, &#x27;app-id&#x27;: &#x27;local-1760503776197&#x27;, &#x27;added-records&#x27;: &#x27;1338&#x27;, &#x27;total-records&#x27;: &#x27;1338&#x27;, &#x27;spark.app.id&#x27;: &#x27;local-1760503776197&#x27;, &#x27;changed-partition-count&#x27;: &#x27;4&#x27;, &#x27;engine-name&#x27;: &#x27;spark&#x27;, &#x27;total-position-deletes&#x27;: &#x27;0&#x27;, &#x27;added-files-size&#x27;: &#x27;25220&#x27;, &#x27;total-delete-files&#x27;: &#x27;0&#x27;, &#x27;iceberg-version&#x27;: &#x27;Apache Iceberg 1.8.1 (commit 9ce0fcf0af7becf25ad9fc996c3bad2afdcfd33d)&#x27;, &#x27;total-files-size&#x27;: &#x27;25220&#x27;, &#x27;total-data-files&#x27;: &#x27;4&#x27;}</td>\n",
       "        </tr>\n",
       "        <tr>\n",
       "            <td>2025-10-15 04:30:49.209000</td>\n",
       "            <td>3858102109553479743</td>\n",
       "            <td>None</td>\n",
       "            <td>append</td>\n",
       "            <td>s3://warehouse/db/insurance/metadata/snap-3858102109553479743-1-ce0dac53-fc97-4aa5-803e-5c8eea6ec90c.avro</td>\n",
       "            <td>{&#x27;engine-version&#x27;: &#x27;3.5.5&#x27;, &#x27;added-data-files&#x27;: &#x27;4&#x27;, &#x27;total-equality-deletes&#x27;: &#x27;0&#x27;, &#x27;app-id&#x27;: &#x27;local-1760502640587&#x27;, &#x27;added-records&#x27;: &#x27;1338&#x27;, &#x27;total-records&#x27;: &#x27;1338&#x27;, &#x27;spark.app.id&#x27;: &#x27;local-1760502640587&#x27;, &#x27;changed-partition-count&#x27;: &#x27;4&#x27;, &#x27;engine-name&#x27;: &#x27;spark&#x27;, &#x27;total-position-deletes&#x27;: &#x27;0&#x27;, &#x27;added-files-size&#x27;: &#x27;25220&#x27;, &#x27;total-delete-files&#x27;: &#x27;0&#x27;, &#x27;iceberg-version&#x27;: &#x27;Apache Iceberg 1.8.1 (commit 9ce0fcf0af7becf25ad9fc996c3bad2afdcfd33d)&#x27;, &#x27;total-files-size&#x27;: &#x27;25220&#x27;, &#x27;total-data-files&#x27;: &#x27;4&#x27;}</td>\n",
       "        </tr>\n",
       "        <tr>\n",
       "            <td>2025-10-15 04:15:21.270000</td>\n",
       "            <td>9164666238223732662</td>\n",
       "            <td>None</td>\n",
       "            <td>append</td>\n",
       "            <td>s3://warehouse/db/insurance/metadata/snap-9164666238223732662-1-e059a0fb-2052-4846-8358-10b7718246e6.avro</td>\n",
       "            <td>{&#x27;engine-version&#x27;: &#x27;3.5.5&#x27;, &#x27;added-data-files&#x27;: &#x27;4&#x27;, &#x27;total-equality-deletes&#x27;: &#x27;0&#x27;, &#x27;app-id&#x27;: &#x27;local-1760501710013&#x27;, &#x27;added-records&#x27;: &#x27;1338&#x27;, &#x27;total-records&#x27;: &#x27;1338&#x27;, &#x27;spark.app.id&#x27;: &#x27;local-1760501710013&#x27;, &#x27;changed-partition-count&#x27;: &#x27;4&#x27;, &#x27;engine-name&#x27;: &#x27;spark&#x27;, &#x27;total-position-deletes&#x27;: &#x27;0&#x27;, &#x27;added-files-size&#x27;: &#x27;25220&#x27;, &#x27;total-delete-files&#x27;: &#x27;0&#x27;, &#x27;iceberg-version&#x27;: &#x27;Apache Iceberg 1.8.1 (commit 9ce0fcf0af7becf25ad9fc996c3bad2afdcfd33d)&#x27;, &#x27;total-files-size&#x27;: &#x27;25220&#x27;, &#x27;total-data-files&#x27;: &#x27;4&#x27;}</td>\n",
       "        </tr>\n",
       "        <tr>\n",
       "            <td>2025-10-15 04:11:20.838000</td>\n",
       "            <td>3561448738912927623</td>\n",
       "            <td>None</td>\n",
       "            <td>append</td>\n",
       "            <td>s3://warehouse/db/insurance/metadata/snap-3561448738912927623-1-07470707-e7dc-419e-b93a-b0edb2df5128.avro</td>\n",
       "            <td>{&#x27;engine-version&#x27;: &#x27;3.5.5&#x27;, &#x27;added-data-files&#x27;: &#x27;1&#x27;, &#x27;total-equality-deletes&#x27;: &#x27;0&#x27;, &#x27;app-id&#x27;: &#x27;local-1760501315703&#x27;, &#x27;added-records&#x27;: &#x27;1338&#x27;, &#x27;total-records&#x27;: &#x27;1338&#x27;, &#x27;spark.app.id&#x27;: &#x27;local-1760501315703&#x27;, &#x27;changed-partition-count&#x27;: &#x27;1&#x27;, &#x27;engine-name&#x27;: &#x27;spark&#x27;, &#x27;total-position-deletes&#x27;: &#x27;0&#x27;, &#x27;added-files-size&#x27;: &#x27;16528&#x27;, &#x27;total-delete-files&#x27;: &#x27;0&#x27;, &#x27;iceberg-version&#x27;: &#x27;Apache Iceberg 1.8.1 (commit 9ce0fcf0af7becf25ad9fc996c3bad2afdcfd33d)&#x27;, &#x27;total-files-size&#x27;: &#x27;16528&#x27;, &#x27;total-data-files&#x27;: &#x27;1&#x27;}</td>\n",
       "        </tr>\n",
       "    </tbody>\n",
       "</table>"
      ],
      "text/plain": [
       "+----------------------------+---------------------+-----------+-----------+-----------------------------------------------------------------------------------------------------------+-----------------------------------------------------------------------------------------------------------------------------------------------------------------------------------------------------------------------------------------------------------------------------------------------------------------------------------------------------------------------------------------------------------------------------------------------------------------------------------------------------------------+\n",
       "|               committed_at |         snapshot_id | parent_id | operation |                                                                                             manifest_list |                                                                                                                                                                                                                                                                                                                                                                                                                                                                                                         summary |\n",
       "+----------------------------+---------------------+-----------+-----------+-----------------------------------------------------------------------------------------------------------+-----------------------------------------------------------------------------------------------------------------------------------------------------------------------------------------------------------------------------------------------------------------------------------------------------------------------------------------------------------------------------------------------------------------------------------------------------------------------------------------------------------------+\n",
       "| 2025-10-16 04:55:55.083000 | 7129606971041927265 |      None |    append | s3://warehouse/db/insurance/metadata/snap-7129606971041927265-1-688c09c6-2e8a-4320-a840-a608d6e6d786.avro | {'engine-version': '3.5.5', 'added-data-files': '4', 'total-equality-deletes': '0', 'app-id': 'local-1760590539939', 'added-records': '1338', 'total-records': '1338', 'spark.app.id': 'local-1760590539939', 'changed-partition-count': '4', 'engine-name': 'spark', 'total-position-deletes': '0', 'added-files-size': '25224', 'total-delete-files': '0', 'iceberg-version': 'Apache Iceberg 1.8.1 (commit 9ce0fcf0af7becf25ad9fc996c3bad2afdcfd33d)', 'total-files-size': '25224', 'total-data-files': '4'} |\n",
       "|        2025-10-15 04:49:50 | 6303910031349085422 |      None |    append | s3://warehouse/db/insurance/metadata/snap-6303910031349085422-1-eb7d4f2e-7add-471a-aa07-50b8997a4816.avro | {'engine-version': '3.5.5', 'added-data-files': '4', 'total-equality-deletes': '0', 'app-id': 'local-1760503776197', 'added-records': '1338', 'total-records': '1338', 'spark.app.id': 'local-1760503776197', 'changed-partition-count': '4', 'engine-name': 'spark', 'total-position-deletes': '0', 'added-files-size': '25220', 'total-delete-files': '0', 'iceberg-version': 'Apache Iceberg 1.8.1 (commit 9ce0fcf0af7becf25ad9fc996c3bad2afdcfd33d)', 'total-files-size': '25220', 'total-data-files': '4'} |\n",
       "| 2025-10-15 04:30:49.209000 | 3858102109553479743 |      None |    append | s3://warehouse/db/insurance/metadata/snap-3858102109553479743-1-ce0dac53-fc97-4aa5-803e-5c8eea6ec90c.avro | {'engine-version': '3.5.5', 'added-data-files': '4', 'total-equality-deletes': '0', 'app-id': 'local-1760502640587', 'added-records': '1338', 'total-records': '1338', 'spark.app.id': 'local-1760502640587', 'changed-partition-count': '4', 'engine-name': 'spark', 'total-position-deletes': '0', 'added-files-size': '25220', 'total-delete-files': '0', 'iceberg-version': 'Apache Iceberg 1.8.1 (commit 9ce0fcf0af7becf25ad9fc996c3bad2afdcfd33d)', 'total-files-size': '25220', 'total-data-files': '4'} |\n",
       "| 2025-10-15 04:15:21.270000 | 9164666238223732662 |      None |    append | s3://warehouse/db/insurance/metadata/snap-9164666238223732662-1-e059a0fb-2052-4846-8358-10b7718246e6.avro | {'engine-version': '3.5.5', 'added-data-files': '4', 'total-equality-deletes': '0', 'app-id': 'local-1760501710013', 'added-records': '1338', 'total-records': '1338', 'spark.app.id': 'local-1760501710013', 'changed-partition-count': '4', 'engine-name': 'spark', 'total-position-deletes': '0', 'added-files-size': '25220', 'total-delete-files': '0', 'iceberg-version': 'Apache Iceberg 1.8.1 (commit 9ce0fcf0af7becf25ad9fc996c3bad2afdcfd33d)', 'total-files-size': '25220', 'total-data-files': '4'} |\n",
       "| 2025-10-15 04:11:20.838000 | 3561448738912927623 |      None |    append | s3://warehouse/db/insurance/metadata/snap-3561448738912927623-1-07470707-e7dc-419e-b93a-b0edb2df5128.avro | {'engine-version': '3.5.5', 'added-data-files': '1', 'total-equality-deletes': '0', 'app-id': 'local-1760501315703', 'added-records': '1338', 'total-records': '1338', 'spark.app.id': 'local-1760501315703', 'changed-partition-count': '1', 'engine-name': 'spark', 'total-position-deletes': '0', 'added-files-size': '16528', 'total-delete-files': '0', 'iceberg-version': 'Apache Iceberg 1.8.1 (commit 9ce0fcf0af7becf25ad9fc996c3bad2afdcfd33d)', 'total-files-size': '16528', 'total-data-files': '1'} |\n",
       "+----------------------------+---------------------+-----------+-----------+-----------------------------------------------------------------------------------------------------------+-----------------------------------------------------------------------------------------------------------------------------------------------------------------------------------------------------------------------------------------------------------------------------------------------------------------------------------------------------------------------------------------------------------------------------------------------------------------------------------------------------------------+"
      ]
     },
     "execution_count": 19,
     "metadata": {},
     "output_type": "execute_result"
    }
   ],
   "source": [
    "%%sql\n",
    "SELECT * FROM demo.db.insurance.snapshots ORDER BY committed_at DESC;"
   ]
  },
  {
   "cell_type": "markdown",
   "id": "38ff2379-4daa-4410-a360-a75c941c5752",
   "metadata": {},
   "source": [
    "## 5. Time Travel\n",
    "https://docs.databricks.com/gcp/en/delta/history"
   ]
  },
  {
   "cell_type": "markdown",
   "id": "aa38fe32-a3a4-4145-ad09-a5131400f688",
   "metadata": {},
   "source": [
    "## 5.1 Query by snapshot ID"
   ]
  },
  {
   "cell_type": "code",
   "execution_count": 21,
   "id": "a5e333d0-c2be-45ab-bea2-1f02c37c8bec",
   "metadata": {},
   "outputs": [
    {
     "data": {
      "text/html": [
       "<table>\n",
       "    <thead>\n",
       "        <tr>\n",
       "            <th>age</th>\n",
       "            <th>sex</th>\n",
       "            <th>bmi</th>\n",
       "            <th>children</th>\n",
       "            <th>smoker</th>\n",
       "            <th>region</th>\n",
       "            <th>charges</th>\n",
       "        </tr>\n",
       "    </thead>\n",
       "    <tbody>\n",
       "        <tr>\n",
       "            <td>33</td>\n",
       "            <td>male</td>\n",
       "            <td>22.705</td>\n",
       "            <td>0</td>\n",
       "            <td>no</td>\n",
       "            <td>northwest</td>\n",
       "            <td>21984.47061</td>\n",
       "        </tr>\n",
       "        <tr>\n",
       "            <td>32</td>\n",
       "            <td>male</td>\n",
       "            <td>28.88</td>\n",
       "            <td>0</td>\n",
       "            <td>no</td>\n",
       "            <td>northwest</td>\n",
       "            <td>3866.8552</td>\n",
       "        </tr>\n",
       "        <tr>\n",
       "            <td>37</td>\n",
       "            <td>female</td>\n",
       "            <td>27.74</td>\n",
       "            <td>3</td>\n",
       "            <td>no</td>\n",
       "            <td>northwest</td>\n",
       "            <td>7281.5056</td>\n",
       "        </tr>\n",
       "        <tr>\n",
       "            <td>60</td>\n",
       "            <td>female</td>\n",
       "            <td>25.84</td>\n",
       "            <td>0</td>\n",
       "            <td>no</td>\n",
       "            <td>northwest</td>\n",
       "            <td>28923.13692</td>\n",
       "        </tr>\n",
       "        <tr>\n",
       "            <td>37</td>\n",
       "            <td>male</td>\n",
       "            <td>28.025</td>\n",
       "            <td>2</td>\n",
       "            <td>no</td>\n",
       "            <td>northwest</td>\n",
       "            <td>6203.90175</td>\n",
       "        </tr>\n",
       "    </tbody>\n",
       "</table>"
      ],
      "text/plain": [
       "+-----+--------+--------+----------+--------+-----------+-------------+\n",
       "| age |    sex |    bmi | children | smoker |    region |     charges |\n",
       "+-----+--------+--------+----------+--------+-----------+-------------+\n",
       "|  33 |   male | 22.705 |        0 |     no | northwest | 21984.47061 |\n",
       "|  32 |   male |  28.88 |        0 |     no | northwest |   3866.8552 |\n",
       "|  37 | female |  27.74 |        3 |     no | northwest |   7281.5056 |\n",
       "|  60 | female |  25.84 |        0 |     no | northwest | 28923.13692 |\n",
       "|  37 |   male | 28.025 |        2 |     no | northwest |  6203.90175 |\n",
       "+-----+--------+--------+----------+--------+-----------+-------------+"
      ]
     },
     "execution_count": 21,
     "metadata": {},
     "output_type": "execute_result"
    }
   ],
   "source": [
    "%%sql\n",
    "-- get the table from snapshot before sex column was renamed\n",
    "SELECT * FROM demo.db.insurance.snapshot_id_7129606971041927265 LIMIT 5;"
   ]
  },
  {
   "cell_type": "markdown",
   "id": "3663c6f6-d506-4618-b908-3f8f43f1a470",
   "metadata": {},
   "source": [
    "## 5.2 Query by timestamp"
   ]
  },
  {
   "cell_type": "code",
   "execution_count": 22,
   "id": "2933c76a-bdff-4f66-af87-085b3a073455",
   "metadata": {},
   "outputs": [
    {
     "data": {
      "text/html": [
       "<table>\n",
       "    <thead>\n",
       "        <tr>\n",
       "            <th>age</th>\n",
       "            <th>sex</th>\n",
       "            <th>bmi</th>\n",
       "            <th>children</th>\n",
       "            <th>smoker</th>\n",
       "            <th>region</th>\n",
       "            <th>charges</th>\n",
       "        </tr>\n",
       "    </thead>\n",
       "    <tbody>\n",
       "        <tr>\n",
       "            <td>33</td>\n",
       "            <td>male</td>\n",
       "            <td>22.705</td>\n",
       "            <td>0</td>\n",
       "            <td>no</td>\n",
       "            <td>northwest</td>\n",
       "            <td>21984.47061</td>\n",
       "        </tr>\n",
       "        <tr>\n",
       "            <td>32</td>\n",
       "            <td>male</td>\n",
       "            <td>28.88</td>\n",
       "            <td>0</td>\n",
       "            <td>no</td>\n",
       "            <td>northwest</td>\n",
       "            <td>3866.8552</td>\n",
       "        </tr>\n",
       "        <tr>\n",
       "            <td>37</td>\n",
       "            <td>female</td>\n",
       "            <td>27.74</td>\n",
       "            <td>3</td>\n",
       "            <td>no</td>\n",
       "            <td>northwest</td>\n",
       "            <td>7281.5056</td>\n",
       "        </tr>\n",
       "        <tr>\n",
       "            <td>60</td>\n",
       "            <td>female</td>\n",
       "            <td>25.84</td>\n",
       "            <td>0</td>\n",
       "            <td>no</td>\n",
       "            <td>northwest</td>\n",
       "            <td>28923.13692</td>\n",
       "        </tr>\n",
       "        <tr>\n",
       "            <td>37</td>\n",
       "            <td>male</td>\n",
       "            <td>28.025</td>\n",
       "            <td>2</td>\n",
       "            <td>no</td>\n",
       "            <td>northwest</td>\n",
       "            <td>6203.90175</td>\n",
       "        </tr>\n",
       "    </tbody>\n",
       "</table>"
      ],
      "text/plain": [
       "+-----+--------+--------+----------+--------+-----------+-------------+\n",
       "| age |    sex |    bmi | children | smoker |    region |     charges |\n",
       "+-----+--------+--------+----------+--------+-----------+-------------+\n",
       "|  33 |   male | 22.705 |        0 |     no | northwest | 21984.47061 |\n",
       "|  32 |   male |  28.88 |        0 |     no | northwest |   3866.8552 |\n",
       "|  37 | female |  27.74 |        3 |     no | northwest |   7281.5056 |\n",
       "|  60 | female |  25.84 |        0 |     no | northwest | 28923.13692 |\n",
       "|  37 |   male | 28.025 |        2 |     no | northwest |  6203.90175 |\n",
       "+-----+--------+--------+----------+--------+-----------+-------------+"
      ]
     },
     "execution_count": 22,
     "metadata": {},
     "output_type": "execute_result"
    }
   ],
   "source": [
    "%%sql\n",
    "SELECT * FROM demo.db.insurance TIMESTAMP AS OF '2025-10-15 12:59:35.275000' LIMIT 5;"
   ]
  },
  {
   "cell_type": "code",
   "execution_count": null,
   "id": "f4e2e6d9-faff-4f2b-97f8-ac33bcbcb5e8",
   "metadata": {},
   "outputs": [],
   "source": []
  }
 ],
 "metadata": {
  "kernelspec": {
   "display_name": "Python 3 (ipykernel)",
   "language": "python",
   "name": "python3"
  },
  "language_info": {
   "codemirror_mode": {
    "name": "ipython",
    "version": 3
   },
   "file_extension": ".py",
   "mimetype": "text/x-python",
   "name": "python",
   "nbconvert_exporter": "python",
   "pygments_lexer": "ipython3",
   "version": "3.10.16"
  }
 },
 "nbformat": 4,
 "nbformat_minor": 5
}
